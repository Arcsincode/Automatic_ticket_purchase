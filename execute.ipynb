{
 "cells": [
  {
   "cell_type": "code",
   "execution_count": 1,
   "metadata": {},
   "outputs": [],
   "source": [
    "from web_class import *"
   ]
  },
  {
   "cell_type": "code",
   "execution_count": 2,
   "metadata": {},
   "outputs": [],
   "source": [
    "web = a_web()"
   ]
  },
  {
   "cell_type": "code",
   "execution_count": 27,
   "metadata": {},
   "outputs": [],
   "source": [
    "item_id = \"718006075838\"\n",
    "main_url = \"https://m.damai.cn/damai/detail/item.html?itemId={}&spm=a2o71.category.itemlist.ditem_0\".format(item_id)\n",
    "times = ['2023-07-07','2023-07-08','2023-07-09'] # 包含的文字\n",
    "all_times_num = 3\n",
    "tickets = ['1055','1355'] # 优先次序\n",
    "viewers = ['1','2','3']\n",
    "buy_nums = len(viewers)\n"
   ]
  },
  {
   "cell_type": "code",
   "execution_count": null,
   "metadata": {},
   "outputs": [],
   "source": []
  },
  {
   "cell_type": "code",
   "execution_count": 28,
   "metadata": {},
   "outputs": [],
   "source": [
    "\n",
    "# 票档中先读取各个元素的 文字 和 element 本身 存到字典中\n",
    "def choseTicket():\n",
    "    global CURRENT_TICKET\n",
    "    tickets_eles = web.wait_find(by=By.XPATH,value='//div[@class=\"bui-dm-sku-card sku-tickets-card\"]//div[@class=\"bui-dm-sku-card-item item-normal theme-normal\"]//div[@class=\"item-text item-text-normal\"]',find_all=True)\n",
    "    if 1:\n",
    "    # for expected_ticket in tickets:\n",
    "        for ticket_ele in tickets_eles:\n",
    "            if(CURRENT_TICKET >= len(tickets)):\n",
    "                CURRENT_TICKET = 0\n",
    "                return False\n",
    "            if tickets[CURRENT_TICKET] in ticket_ele.text:\n",
    "                print(ticket_ele.text)\n",
    "                # ticket_ele.send_keys(Keys.SPACE)\n",
    "                ticket_ele.click()\n",
    "                if not changeNum(buy_nums):\n",
    "                    CURRENT_TICKET += 1\n",
    "                    continue\n",
    "                else:\n",
    "                    CURRENT_TICKET += 1\n",
    "                    return True\n",
    "                    # web.get(main_url)\n",
    "\n",
    "        # else:\n",
    "        #     CURRENT_TICKET = 0\n",
    "        \n",
    "\n",
    "\n",
    "\n",
    "                \n",
    "                \n",
    "\n",
    "def changeNum(num):\n",
    "    \n",
    "    try:\n",
    "        for _ in range(num):\n",
    "            web.wait_find(by=By.XPATH,value='//div[@class=\"number-edit-bg\"][2]',change_wait_to=1).click()\n",
    "    except:\n",
    "        print(\"已无法选择增加人数！\")\n",
    "        return False\n",
    "    else:\n",
    "        web.wait_find(by=By.XPATH,value='//div[@class=\"bui-btn bui-btn-contained bui-btn-medium sku-footer-buy-button half-width normal sku-footer-buy-button\"]').click()\n",
    "        \n",
    "    for ele in web.wait_find(by=By.XPATH,value=\"//i[@class='iconfont icondanxuan-weixuan_']\",find_all=True):\n",
    "        ele.click()\n",
    "    web.wait_find(by=By.XPATH,value='//span[contains(text(),\"提交订单\")]').click()\n",
    "    # time.sleep(1)\n",
    "    return True\n",
    "        \n"
   ]
  },
  {
   "cell_type": "code",
   "execution_count": 30,
   "metadata": {},
   "outputs": [
    {
     "name": "stdout",
     "output_type": "stream",
     "text": [
      "内场1055元\n",
      "缺货登记\n",
      "已无法选择增加人数！\n",
      "内场1355元\n",
      "缺货登记\n",
      "已无法选择增加人数！\n"
     ]
    }
   ],
   "source": [
    "# 点击time（场次）之后会显示tickets（票档）\n",
    "\n",
    "CURRENT_TIME = 0\n",
    "CURRENT_TICKET = 0\n",
    "while True:\n",
    "# for expected_time in times:\n",
    "    web.get(main_url)\n",
    "    web.wait_find(by=By.XPATH,value='//div[@class=\"buy__button\"]').click() # 弹出->选择time\n",
    "    times_eles = web.wait_find(by=By.XPATH,value='//div[@class=\"bui-dm-sku-card-item item-normal theme-normal\"]',find_all=True)\n",
    "    for i in range(all_times_num):\n",
    "        if times[CURRENT_TIME] in times_eles[i].text:\n",
    "            times_eles[i].click()\n",
    "            if not choseTicket():\n",
    "                CURRENT_TIME+=1\n",
    "                CURRENT_TICKET = 0\n",
    "                break\n",
    "            else:\n",
    "                break\n",
    "    break\n",
    "            \n",
    "    \n",
    "        \n",
    "\n",
    "\n",
    "# 用tickets期望列表按次序遍历，先判断是否 有余票，点击哪些有余票的提交\n",
    "\n",
    "# \n",
    "\n"
   ]
  },
  {
   "cell_type": "code",
   "execution_count": 13,
   "metadata": {},
   "outputs": [
    {
     "ename": "NameError",
     "evalue": "name 'ticket_prices' is not defined",
     "output_type": "error",
     "traceback": [
      "\u001b[0;31m---------------------------------------------------------------------------\u001b[0m",
      "\u001b[0;31mNameError\u001b[0m                                 Traceback (most recent call last)",
      "\u001b[1;32m/home/arcsinszy/project/Automatic_ticket_purchase/execute.ipynb 单元格 5\u001b[0m in \u001b[0;36m<module>\u001b[0;34m\u001b[0m\n\u001b[0;32m----> <a href='vscode-notebook-cell:/home/arcsinszy/project/Automatic_ticket_purchase/execute.ipynb#X11sZmlsZQ%3D%3D?line=0'>1</a>\u001b[0m \u001b[39mfor\u001b[39;00m price \u001b[39min\u001b[39;00m ticket_prices:\n\u001b[1;32m      <a href='vscode-notebook-cell:/home/arcsinszy/project/Automatic_ticket_purchase/execute.ipynb#X11sZmlsZQ%3D%3D?line=1'>2</a>\u001b[0m     ele \u001b[39m=\u001b[39m web\u001b[39m.\u001b[39mwait_find(by\u001b[39m=\u001b[39mBy\u001b[39m.\u001b[39mXPATH,value\u001b[39m=\u001b[39m\u001b[39mf\u001b[39m\u001b[39m'\u001b[39m\u001b[39m//div[@class=\u001b[39m\u001b[39m\"\u001b[39m\u001b[39mitem-text item-text-normal\u001b[39m\u001b[39m\"\u001b[39m\u001b[39m and contains(text(),\u001b[39m\u001b[39m\"\u001b[39m\u001b[39m{\u001b[39;00mprice\u001b[39m}\u001b[39;00m\u001b[39m\"\u001b[39m\u001b[39m)]\u001b[39m\u001b[39m'\u001b[39m)\n\u001b[1;32m      <a href='vscode-notebook-cell:/home/arcsinszy/project/Automatic_ticket_purchase/execute.ipynb#X11sZmlsZQ%3D%3D?line=2'>3</a>\u001b[0m     \u001b[39mprint\u001b[39m(ele\u001b[39m.\u001b[39mtext())\n",
      "\u001b[0;31mNameError\u001b[0m: name 'ticket_prices' is not defined"
     ]
    }
   ],
   "source": [
    "for price in ticket_prices:\n",
    "    ele = web.wait_find(by=By.XPATH,value=f'//div[@class=\"item-text item-text-normal\" and contains(text(),\"{price}\")]')\n",
    "    print(ele.text())\n",
    "    # ele.click()\n"
   ]
  },
  {
   "cell_type": "code",
   "execution_count": 8,
   "metadata": {},
   "outputs": [],
   "source": [
    "web.wait_find(by=By.XPATH,value='//div[@class=\"number-edit-bg\"][2]').click()\n"
   ]
  },
  {
   "cell_type": "code",
   "execution_count": 10,
   "metadata": {},
   "outputs": [],
   "source": [
    "web.wait_find(by=By.XPATH,value='//div[@class=\"bui-btn bui-btn-contained bui-btn-medium sku-footer-buy-button half-width normal sku-footer-buy-button\"]').click()\n"
   ]
  },
  {
   "cell_type": "code",
   "execution_count": 11,
   "metadata": {},
   "outputs": [],
   "source": [
    "for ele in web.wait_find(by=By.XPATH,value=\"//i[@class='iconfont icondanxuan-weixuan_']\",find_all=True):\n",
    "    ele.click()"
   ]
  },
  {
   "cell_type": "code",
   "execution_count": 12,
   "metadata": {},
   "outputs": [],
   "source": [
    "\n",
    "web.wait_find(by=By.XPATH,value='//span[contains(text(),\"提交订单\")]').click()\n"
   ]
  },
  {
   "cell_type": "code",
   "execution_count": 4,
   "metadata": {},
   "outputs": [],
   "source": [
    "del web"
   ]
  }
 ],
 "metadata": {
  "kernelspec": {
   "display_name": "Python 3",
   "language": "python",
   "name": "python3"
  },
  "language_info": {
   "codemirror_mode": {
    "name": "ipython",
    "version": 3
   },
   "file_extension": ".py",
   "mimetype": "text/x-python",
   "name": "python",
   "nbconvert_exporter": "python",
   "pygments_lexer": "ipython3",
   "version": "3.8.10"
  },
  "orig_nbformat": 4,
  "vscode": {
   "interpreter": {
    "hash": "31f2aee4e71d21fbe5cf8b01ff0e069b9275f58929596ceb00d14d90e3e16cd6"
   }
  }
 },
 "nbformat": 4,
 "nbformat_minor": 2
}
